{
 "cells": [
  {
   "cell_type": "code",
   "execution_count": null,
   "metadata": {},
   "outputs": [],
   "source": [
    "import dlib\n",
    "import cv2\n",
    "# 載入並初始化檢測器\n",
    "detector = dlib.get_frontal_face_detector()\n",
    "camera = cv2.VideoCapture(0)\n",
    "if not camera.isOpened():\n",
    "    print(\"cannot open camear\")\n",
    "    exit(0)\n",
    "j=0\n",
    "while True:\n",
    "    ret, frame = camera.read()\n",
    "    if not ret:\n",
    "        break\n",
    "    frame_new = cv2.cvtColor(frame, cv2.COLOR_BGR2RGB)\n",
    "    # 檢測臉部\n",
    "    dets = detector(frame_new, 1)\n",
    "   \n",
    "    # 查詢臉部位置\n",
    "    for i, face in enumerate(dets):\n",
    "       \n",
    "        # 繪製臉部位置\n",
    "        \n",
    "        #儲存臉部圖片\n",
    "        img1=frame[face.top():face.bottom(),face.left():face.right()]\n",
    "        \n",
    "    img_name = '%s/%d.jpg'%('C:/Users/vince/face/train/vincent',j)\n",
    "    cv2.imwrite(img_name,frame)   \n",
    "    cv2.rectangle(frame, (face.left(), face.top()), (face.right(), face.bottom()),(0,255,0), 3)    \n",
    "    cv2.imshow(\"Camera\", frame) \n",
    "   \n",
    "    j+=1\n",
    "        \n",
    "    if (j>100):\n",
    "          break\n",
    "        \n",
    "    key = cv2.waitKey(1)\n",
    "    if key == 27:\n",
    "        break\n",
    "camera.release()    \n",
    "cv2.destroyAllWindows()"
   ]
  }
 ],
 "metadata": {
  "kernelspec": {
   "display_name": "Python 3",
   "language": "python",
   "name": "python3"
  },
  "language_info": {
   "codemirror_mode": {
    "name": "ipython",
    "version": 3
   },
   "file_extension": ".py",
   "mimetype": "text/x-python",
   "name": "python",
   "nbconvert_exporter": "python",
   "pygments_lexer": "ipython3",
   "version": "3.7.5"
  }
 },
 "nbformat": 4,
 "nbformat_minor": 2
}
